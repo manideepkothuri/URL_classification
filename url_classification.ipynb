{
 "cells": [
  {
   "cell_type": "code",
   "execution_count": 69,
   "metadata": {},
   "outputs": [],
   "source": [
    "import pandas as pd\n",
    "import numpy as np\n",
    "import pickle\n",
    "from keras.preprocessing.text import Tokenizer\n",
    "from keras.models import Sequential\n",
    "from keras.layers import Activation, Dense, Dropout\n",
    "from keras.preprocessing.sequence import pad_sequences\n",
    "from keras.layers import  Flatten, LSTM, Conv1D, MaxPooling1D\n",
    "from keras.layers.embeddings import Embedding\n",
    "from sklearn.preprocessing import LabelBinarizer"
   ]
  },
  {
   "cell_type": "code",
   "execution_count": 102,
   "metadata": {},
   "outputs": [
    {
     "name": "stdout",
     "output_type": "stream",
     "text": [
      "[nltk_data] Downloading package stopwords to C:\\Users\\Mounika\n",
      "[nltk_data]     kothuri\\AppData\\Roaming\\nltk_data...\n",
      "[nltk_data]   Package stopwords is already up-to-date!\n"
     ]
    }
   ],
   "source": [
    "import nltk\n",
    "import string \n",
    "from nltk.corpus import stopwords \n",
    "nltk.download('stopwords')\n",
    "import re\n",
    "from nltk.stem.snowball import SnowballStemmer "
   ]
  },
  {
   "cell_type": "code",
   "execution_count": 108,
   "metadata": {},
   "outputs": [],
   "source": [
    "data=pd.read_csv('G:/kaggle/project3/train.csv')"
   ]
  },
  {
   "cell_type": "code",
   "execution_count": 109,
   "metadata": {},
   "outputs": [],
   "source": [
    "data=data.drop(columns=[\"Webpage_id\",\"Domain\"])"
   ]
  },
  {
   "cell_type": "code",
   "execution_count": 110,
   "metadata": {},
   "outputs": [
    {
     "data": {
      "text/plain": [
       "(53447, 2)"
      ]
     },
     "execution_count": 110,
     "metadata": {},
     "output_type": "execute_result"
    }
   ],
   "source": [
    "data.shape"
   ]
  },
  {
   "cell_type": "code",
   "execution_count": 90,
   "metadata": {},
   "outputs": [
    {
     "data": {
      "text/plain": [
       "<matplotlib.axes._subplots.AxesSubplot at 0x8b26890ac8>"
      ]
     },
     "execution_count": 90,
     "metadata": {},
     "output_type": "execute_result"
    },
    {
     "data": {
      "image/png": "[encoded data removed]",
      "text/plain": [
       "<matplotlib.figure.Figure at 0x8b2686ca58>"
      ]
     },
     "metadata": {},
     "output_type": "display_data"
    }
   ],
   "source": [
    "data[\"Tag\"].value_counts().plot('bar')"
   ]
  },
  {
   "cell_type": "code",
   "execution_count": 91,
   "metadata": {},
   "outputs": [
    {
     "data": {
      "text/html": [
       "<div>\n",
       "<style scoped>\n",
       "    .dataframe tbody tr th:only-of-type {\n",
       "        vertical-align: middle;\n",
       "    }\n",
       "\n",
       "    .dataframe tbody tr th {\n",
       "        vertical-align: top;\n",
       "    }\n",
       "\n",
       "    .dataframe thead th {\n",
       "        text-align: right;\n",
       "    }\n",
       "</style>\n",
       "<table border=\"1\" class=\"dataframe\">\n",
       "  <thead>\n",
       "    <tr style=\"text-align: right;\">\n",
       "      <th></th>\n",
       "      <th>Url</th>\n",
       "      <th>Tag</th>\n",
       "    </tr>\n",
       "  </thead>\n",
       "  <tbody>\n",
       "    <tr>\n",
       "      <th>0</th>\n",
       "      <td>http://www.fiercepharma.com/marketing/tecfider...</td>\n",
       "      <td>news</td>\n",
       "    </tr>\n",
       "    <tr>\n",
       "      <th>1</th>\n",
       "      <td>http://www.fiercepharma.com/pharma/novo-equipp...</td>\n",
       "      <td>news</td>\n",
       "    </tr>\n",
       "    <tr>\n",
       "      <th>2</th>\n",
       "      <td>http://www.fiercepharma.com/pharma/another-exe...</td>\n",
       "      <td>news</td>\n",
       "    </tr>\n",
       "    <tr>\n",
       "      <th>3</th>\n",
       "      <td>http://www.fiercepharma.com/pharma/teva-buy-bi...</td>\n",
       "      <td>news</td>\n",
       "    </tr>\n",
       "    <tr>\n",
       "      <th>4</th>\n",
       "      <td>http://www.fiercepharma.com/marketing/actress-...</td>\n",
       "      <td>news</td>\n",
       "    </tr>\n",
       "  </tbody>\n",
       "</table>\n",
       "</div>"
      ],
      "text/plain": [
       "                                                 Url   Tag\n",
       "0  http://www.fiercepharma.com/marketing/tecfider...  news\n",
       "1  http://www.fiercepharma.com/pharma/novo-equipp...  news\n",
       "2  http://www.fiercepharma.com/pharma/another-exe...  news\n",
       "3  http://www.fiercepharma.com/pharma/teva-buy-bi...  news\n",
       "4  http://www.fiercepharma.com/marketing/actress-...  news"
      ]
     },
     "execution_count": 91,
     "metadata": {},
     "output_type": "execute_result"
    }
   ],
   "source": [
    "data.head()"
   ]
  },
  {
   "cell_type": "code",
   "execution_count": 92,
   "metadata": {},
   "outputs": [
    {
     "data": {
      "text/plain": [
       "others            17417\n",
       "news               7992\n",
       "publication        7705\n",
       "profile            5196\n",
       "conferences        4666\n",
       "forum              4503\n",
       "clinicalTrials     2839\n",
       "thesis             1800\n",
       "guidelines         1329\n",
       "Name: Tag, dtype: int64"
      ]
     },
     "execution_count": 92,
     "metadata": {},
     "output_type": "execute_result"
    }
   ],
   "source": [
    "data['Tag'].value_counts()"
   ]
  },
  {
   "cell_type": "code",
   "execution_count": 20,
   "metadata": {},
   "outputs": [],
   "source": [
    "train_size = int(len(data) * .8)\n",
    " \n",
    "train_posts = data['Url'][:train_size]\n",
    "train_tags = data['Tag'][:train_size]\n",
    " \n",
    "test_posts = data['Url'][train_size:]\n",
    "test_tags = data['Tag'][train_size:]"
   ]
  },
  {
   "cell_type": "code",
   "execution_count": 51,
   "metadata": {},
   "outputs": [],
   "source": [
    "num_labels = 9\n",
    "vocab_size = 1500\n",
    "batch_size = 100\n",
    "max_feature=10000\n",
    "maxlen=500"
   ]
  },
  {
   "cell_type": "code",
   "execution_count": 23,
   "metadata": {},
   "outputs": [],
   "source": [
    "tokenizer = Tokenizer(num_words=vocab_size)\n",
    "tokenizer.fit_on_texts(train_posts)"
   ]
  },
  {
   "cell_type": "code",
   "execution_count": 24,
   "metadata": {},
   "outputs": [],
   "source": [
    "x_train = tokenizer.texts_to_matrix(train_posts, mode='tfidf')\n",
    "x_test = tokenizer.texts_to_matrix(test_posts, mode='tfidf')"
   ]
  },
  {
   "cell_type": "code",
   "execution_count": 28,
   "metadata": {},
   "outputs": [
    {
     "data": {
      "text/plain": [
       "LabelBinarizer(neg_label=0, pos_label=1, sparse_output=False)"
      ]
     },
     "execution_count": 28,
     "metadata": {},
     "output_type": "execute_result"
    }
   ],
   "source": [
    "encoder = LabelBinarizer()\n",
    "encoder.fit(train_tags)"
   ]
  },
  {
   "cell_type": "code",
   "execution_count": 29,
   "metadata": {},
   "outputs": [],
   "source": [
    "y_train = encoder.transform(train_tags)\n",
    "y_test = encoder.transform(test_tags)"
   ]
  },
  {
   "cell_type": "code",
   "execution_count": 30,
   "metadata": {},
   "outputs": [
    {
     "name": "stdout",
     "output_type": "stream",
     "text": [
      "_________________________________________________________________\n",
      "Layer (type)                 Output Shape              Param #   \n",
      "=================================================================\n",
      "dense_1 (Dense)              (None, 512)               768512    \n",
      "_________________________________________________________________\n",
      "activation_1 (Activation)    (None, 512)               0         \n",
      "_________________________________________________________________\n",
      "dropout_1 (Dropout)          (None, 512)               0         \n",
      "_________________________________________________________________\n",
      "dense_2 (Dense)              (None, 512)               262656    \n",
      "_________________________________________________________________\n",
      "activation_2 (Activation)    (None, 512)               0         \n",
      "_________________________________________________________________\n",
      "dropout_2 (Dropout)          (None, 512)               0         \n",
      "_________________________________________________________________\n",
      "dense_3 (Dense)              (None, 9)                 4617      \n",
      "_________________________________________________________________\n",
      "activation_3 (Activation)    (None, 9)                 0         \n",
      "=================================================================\n",
      "Total params: 1,035,785\n",
      "Trainable params: 1,035,785\n",
      "Non-trainable params: 0\n",
      "_________________________________________________________________\n"
     ]
    }
   ],
   "source": [
    "model = Sequential()\n",
    "model.add(Dense(512, input_shape=(vocab_size,)))\n",
    "model.add(Activation('relu'))\n",
    "model.add(Dropout(0.3))\n",
    "model.add(Dense(512))\n",
    "model.add(Activation('relu'))\n",
    "model.add(Dropout(0.3))\n",
    "model.add(Dense(num_labels))\n",
    "model.add(Activation('softmax'))\n",
    "model.summary()"
   ]
  },
  {
   "cell_type": "code",
   "execution_count": 31,
   "metadata": {},
   "outputs": [],
   "source": [
    "model.compile(loss='categorical_crossentropy',\n",
    "              optimizer='adam',\n",
    "              metrics=['accuracy'])"
   ]
  },
  {
   "cell_type": "code",
   "execution_count": 32,
   "metadata": {},
   "outputs": [
    {
     "name": "stdout",
     "output_type": "stream",
     "text": [
      "Train on 38481 samples, validate on 4276 samples\n",
      "Epoch 1/30\n",
      "38481/38481 [==============================] - 30s 769us/step - loss: 0.3064 - acc: 0.9063 - val_loss: 1.2413 - val_acc: 0.6462\n",
      "Epoch 2/30\n",
      "38481/38481 [==============================] - 26s 665us/step - loss: 0.1176 - acc: 0.9629 - val_loss: 1.1883 - val_acc: 0.7107\n",
      "Epoch 3/30\n",
      "38481/38481 [==============================] - 25s 659us/step - loss: 0.0870 - acc: 0.9728 - val_loss: 1.4354 - val_acc: 0.6876\n",
      "Epoch 4/30\n",
      "38481/38481 [==============================] - 26s 667us/step - loss: 0.0736 - acc: 0.9769 - val_loss: 2.0050 - val_acc: 0.6331\n",
      "Epoch 5/30\n",
      "38481/38481 [==============================] - 28s 726us/step - loss: 0.0621 - acc: 0.9812 - val_loss: 1.5770 - val_acc: 0.7212\n",
      "Epoch 6/30\n",
      "38481/38481 [==============================] - 26s 678us/step - loss: 0.0565 - acc: 0.9824 - val_loss: 2.0703 - val_acc: 0.7028\n",
      "Epoch 7/30\n",
      "38481/38481 [==============================] - 26s 671us/step - loss: 0.0521 - acc: 0.9835 - val_loss: 3.0336 - val_acc: 0.6172\n",
      "Epoch 8/30\n",
      "38481/38481 [==============================] - 26s 679us/step - loss: 0.0487 - acc: 0.9849 - val_loss: 2.7748 - val_acc: 0.6356\n",
      "Epoch 9/30\n",
      "38481/38481 [==============================] - 26s 670us/step - loss: 0.0438 - acc: 0.9859 - val_loss: 2.6940 - val_acc: 0.6777\n",
      "Epoch 10/30\n",
      "38481/38481 [==============================] - 26s 678us/step - loss: 0.0420 - acc: 0.9869 - val_loss: 2.8750 - val_acc: 0.6677\n",
      "Epoch 11/30\n",
      "38481/38481 [==============================] - 26s 684us/step - loss: 0.0427 - acc: 0.9864 - val_loss: 3.3059 - val_acc: 0.6532\n",
      "Epoch 12/30\n",
      "38481/38481 [==============================] - 26s 675us/step - loss: 0.0425 - acc: 0.9864 - val_loss: 3.0084 - val_acc: 0.6777\n",
      "Epoch 13/30\n",
      "38481/38481 [==============================] - 27s 693us/step - loss: 0.0403 - acc: 0.9873 - val_loss: 3.6240 - val_acc: 0.6001\n",
      "Epoch 14/30\n",
      "38481/38481 [==============================] - 26s 684us/step - loss: 0.0378 - acc: 0.9879 - val_loss: 3.8744 - val_acc: 0.6169\n",
      "Epoch 15/30\n",
      "38481/38481 [==============================] - 26s 677us/step - loss: 0.0381 - acc: 0.9881 - val_loss: 3.2546 - val_acc: 0.6616\n",
      "Epoch 16/30\n",
      "38481/38481 [==============================] - 26s 688us/step - loss: 0.0368 - acc: 0.9884 - val_loss: 3.3110 - val_acc: 0.6705\n",
      "Epoch 17/30\n",
      "38481/38481 [==============================] - 26s 685us/step - loss: 0.0382 - acc: 0.9875 - val_loss: 4.0378 - val_acc: 0.6134\n",
      "Epoch 18/30\n",
      "38481/38481 [==============================] - 26s 687us/step - loss: 0.0349 - acc: 0.9882 - val_loss: 3.1855 - val_acc: 0.6843\n",
      "Epoch 19/30\n",
      "38481/38481 [==============================] - 27s 701us/step - loss: 0.0356 - acc: 0.9884 - val_loss: 3.2980 - val_acc: 0.6710\n",
      "Epoch 20/30\n",
      "38481/38481 [==============================] - 27s 694us/step - loss: 0.0365 - acc: 0.9881 - val_loss: 3.2137 - val_acc: 0.6812\n",
      "Epoch 21/30\n",
      "38481/38481 [==============================] - 27s 694us/step - loss: 0.0359 - acc: 0.9886 - val_loss: 2.9927 - val_acc: 0.6932\n",
      "Epoch 22/30\n",
      "38481/38481 [==============================] - 27s 705us/step - loss: 0.0331 - acc: 0.9883 - val_loss: 3.4626 - val_acc: 0.6567\n",
      "Epoch 23/30\n",
      "38481/38481 [==============================] - 27s 697us/step - loss: 0.0337 - acc: 0.9887 - val_loss: 3.6915 - val_acc: 0.6553\n",
      "Epoch 24/30\n",
      "38481/38481 [==============================] - 27s 691us/step - loss: 0.0346 - acc: 0.9891 - val_loss: 3.7390 - val_acc: 0.6459\n",
      "Epoch 25/30\n",
      "38481/38481 [==============================] - 27s 700us/step - loss: 0.0319 - acc: 0.9894 - val_loss: 3.0872 - val_acc: 0.7025\n",
      "Epoch 26/30\n",
      "38481/38481 [==============================] - 27s 699us/step - loss: 0.0317 - acc: 0.9896 - val_loss: 3.6381 - val_acc: 0.6747\n",
      "Epoch 27/30\n",
      "38481/38481 [==============================] - 27s 695us/step - loss: 0.0326 - acc: 0.9894 - val_loss: 3.6505 - val_acc: 0.6794\n",
      "Epoch 28/30\n",
      "38481/38481 [==============================] - 28s 723us/step - loss: 0.0315 - acc: 0.9897 - val_loss: 4.3848 - val_acc: 0.6235\n",
      "Epoch 29/30\n",
      "38481/38481 [==============================] - 27s 708us/step - loss: 0.0323 - acc: 0.9898 - val_loss: 3.8169 - val_acc: 0.6710\n",
      "Epoch 30/30\n",
      "38481/38481 [==============================] - 27s 703us/step - loss: 0.0310 - acc: 0.9895 - val_loss: 3.5927 - val_acc: 0.6901\n"
     ]
    }
   ],
   "source": [
    "history = model.fit(x_train, y_train,\n",
    "                    batch_size=batch_size,\n",
    "                    epochs=30,\n",
    "                    verbose=1,\n",
    "                    validation_split=0.1)"
   ]
  },
  {
   "cell_type": "code",
   "execution_count": 60,
   "metadata": {},
   "outputs": [
    {
     "data": {
      "image/png": "[encoded data removed]",
      "text/plain": [
       "<matplotlib.figure.Figure at 0x8b25598780>"
      ]
     },
     "metadata": {},
     "output_type": "display_data"
    },
    {
     "data": {
      "image/png": "[encoded data removed]",
      "text/plain": [
       "<matplotlib.figure.Figure at 0x8b25549e80>"
      ]
     },
     "metadata": {},
     "output_type": "display_data"
    }
   ],
   "source": [
    "acc=history.history['acc']\n",
    "val_acc=history.history['val_acc']\n",
    "loss=history.history['loss']\n",
    "val_loss=history.history['val_loss']\n",
    "epochs=range(1,len(acc)+1)\n",
    "plt.plot(epochs,acc,'bo',label='Training_acc')\n",
    "plt.plot(epochs,val_acc,'b',label='validation_acc')\n",
    "plt.title('Training and validation accuracy')\n",
    "plt.legend()\n",
    "plt.figure()\n",
    "plt.plot(epochs,loss,'bo',label='Training_loss')\n",
    "plt.plot(epochs,val_loss,'b',label='validation_loss')\n",
    "plt.title('Training and validation loss')\n",
    "plt.legend()\n",
    "plt.show()"
   ]
  },
  {
   "cell_type": "code",
   "execution_count": null,
   "metadata": {},
   "outputs": [],
   "source": []
  }
 ],
 "metadata": {
  "kernelspec": {
   "display_name": "Python 3",
   "language": "python",
   "name": "python3"
  },
  "language_info": {
   "codemirror_mode": {
    "name": "ipython",
    "version": 3
   },
   "file_extension": ".py",
   "mimetype": "text/x-python",
   "name": "python",
   "nbconvert_exporter": "python",
   "pygments_lexer": "ipython3",
   "version": "3.6.4"
  }
 },
 "nbformat": 4,
 "nbformat_minor": 2
}
